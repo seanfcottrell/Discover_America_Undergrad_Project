{
 "cells": [
  {
   "cell_type": "code",
   "execution_count": null,
   "metadata": {},
   "outputs": [],
   "source": [
    "import scanpy as sc\n",
    "import pandas as pd\n",
    "from tPCA import tPCA_embedding\n",
    "import numpy as np\n",
    "from mclustpy import mclustpy\n",
    "from sklearn.cluster import AgglomerativeClustering\n",
    "import STAGATE_pyG as STAGATE"
   ]
  },
  {
   "cell_type": "markdown",
   "metadata": {},
   "source": [
    "In this tutorial we will introduce the MCIST model, which aims to utilize Topological PCA for an expression profile similarity / cell interaction modeling framework in dimensionality reduction, as well as STAGATE which allows for spatially influenced expression profile embeddings. \n",
    "\n",
    "The primary idea is to concatenate the STAGATE bottlneck features with the projected data matrix from Topological PCA, and cluster the features for each spot. We repeat this for multiple different configurations of the cell interaction graph in Topological PCA, resulting in multiple different clusterings. These can then be used to take a consensus, ultimately yielding a more accurate and robust result. \n",
    "\n",
    "First, we define a function to allow us to pre-process the data and perform the clustering at a single scale of graph features ($\\zeta$ weightings). "
   ]
  },
  {
   "cell_type": "code",
   "execution_count": null,
   "metadata": {},
   "outputs": [],
   "source": [
    "def preprocess_data(adata):\n",
    "    if adata.X.shape[1]>3000:\n",
    "        sc.pp.highly_variable_genes(adata, flavor=\"seurat_v3\", n_top_genes=3000)\n",
    "        sc.pp.normalize_total(adata, target_sum=1e4)\n",
    "        sc.pp.log1p(adata)\n",
    "    else:\n",
    "        sc.pp.normalize_total(adata, target_sum=1e4)\n",
    "        sc.pp.log1p(adata)\n",
    "    return adata\n",
    "\n",
    "def MCIST_Clustering(adata, X, beta, gamma, m, zeta, n_clusters):\n",
    "    print('Running for Zetas:', zeta)\n",
    "    #tPCA\n",
    "    Q = tPCA_embedding(X, beta, gamma, m, zeta)\n",
    "    #Feature Concatenation\n",
    "    Q2 = adata.obsm['STAGATE']\n",
    "    Q3 = np.concatenate((np.real(Q),Q2), axis = 1)\n",
    "    #Mclust\n",
    "    res = mclustpy(np.real(Q3), G=n_clusters, modelNames='EEE', random_seed=2020)\n",
    "    mclust_res = res['classification']\n",
    "    return mclust_res\n"
   ]
  },
  {
   "cell_type": "markdown",
   "metadata": {},
   "source": [
    "Now we perform such a clustering for each scale of cell-graph connectivity and take a consensus. "
   ]
  },
  {
   "cell_type": "markdown",
   "metadata": {},
   "source": [
    "Consensus clustering aggregates multiple clustering results into one robust and stable clustering solution. One common approach is to use agglomerative clustering on a co-association matrix derived from the different clustering outcomes.\n",
    "\n",
    "1. **Collect Multiple Clustering Results:**\n",
    "   - Run various clusterings with each set of features to generate multiple clusterings of the data.\n",
    "   - Each clustering partitions the data into groups.\n",
    "\n",
    "2. **Construct a Co-Association Matrix:**\n",
    "   - For each pair of data points, calculate the frequency with which they are assigned to the same cluster across all clustering results.\n",
    "   - The resulting matrix, where each element represents the similarity (or association) between two data points, serves as a measure of how often points “agree” in different clusterings.\n",
    "\n",
    "3. **Apply Agglomerative Clustering:**\n",
    "   - **Initialization:** Start with each data point as its own cluster.\n",
    "   - **Linkage:** At each step, merge the two clusters that have the highest similarity (e.g., highest average co-association value).\n",
    "   - **Iteration:** Continue merging clusters until a stopping criterion is met (such as a predefined number of clusters or a threshold on similarity).\n",
    "   - The merging process builds a hierarchical clustering tree (dendrogram) that captures the nested grouping structure.\n",
    "\n",
    "4. **Derive the Consensus Clustering:**\n",
    "   - Cut the dendrogram at the desired level to obtain the final consensus clusters.\n",
    "   - This consensus result reflects the shared patterns across the multiple clustering outcomes, reducing the influence of noise or outliers present in individual results.\n",
    "\n",
    "Advantages\n",
    "\n",
    "- **Robustness:** Combines information from various clustering runs, each emphasizing its own set of scales of graph connectivity in the data\n",
    "- **Stability:** The co-association matrix smooths out inconsistencies, leading to a more stable clustering solution.\n",
    "- **Interpretability:** The hierarchical structure obtained from agglomerative clustering can provide insights into the data’s multi-scale organization.\n",
    "\n"
   ]
  },
  {
   "cell_type": "code",
   "execution_count": null,
   "metadata": {},
   "outputs": [],
   "source": [
    "def MCIST_GATE(adata, n_clusters, spatial_rad_cutoff):\n",
    "    # pre processing\n",
    "    adata = preprocess_data(adata)\n",
    "    # parameters\n",
    "    beta = 1e1  \n",
    "    gamma = 1e2\n",
    "    if adata.X.shape[1]>3000:\n",
    "        m = 20\n",
    "    else:\n",
    "        m = 10\n",
    "    zeta_combinations = [\n",
    "    [0, 0, 0, 1],\n",
    "    [1, 0, 0, 1],\n",
    "    [1, 1, 0, 1],\n",
    "    [1, 1, 1, 1],\n",
    "    [0, 1, 1, 1],\n",
    "    [0, 0, 1, 1],\n",
    "    [1, 0, 1, 1],\n",
    "    [0, 1, 0, 1]]\n",
    "\n",
    "    ################### Deep Learning ######################\n",
    "    # displayed here is MCIST combined with STAGATE\n",
    "    ## this section can be easily replaced with any arbitrary deep learning method\n",
    "    STAGATE.Cal_Spatial_Net(adata, rad_cutoff=spatial_rad_cutoff) #rad_cutoff will depend on your data\n",
    "    STAGATE.Stats_Spatial_Net(adata)\n",
    "    adata = STAGATE.train_STAGATE(adata)\n",
    "\n",
    "    ####################### MCIST ###########################\n",
    "    if adata.X.shape[1]>3000:\n",
    "        adata_highly_variable = adata[:, adata.var['highly_variable']]\n",
    "        X = adata_highly_variable.X\n",
    "        if hasattr(X, 'toarray'):\n",
    "            X = X.toarray()\n",
    "    else:\n",
    "        X = adata.X\n",
    "        if hasattr(X, 'toarray'):\n",
    "            X = X.toarray()\n",
    "\n",
    "    #Topological PCA with different zeta configurations\n",
    "    cluster_labels = [MCIST_Clustering(adata, X, beta, gamma, m, zeta, n_clusters) for zeta in zeta_combinations]\n",
    "\n",
    "    ######## Spatial Domain Detection via Agglomerative Clustering ########\n",
    "    #co association matrix\n",
    "    n_samples = adata.shape[0]\n",
    "    co_association_matrix = np.zeros((n_samples, n_samples))\n",
    "\n",
    "    for labels in cluster_labels:\n",
    "        for i in range(n_samples):\n",
    "            for j in range(n_samples):\n",
    "                if labels[i] == labels[j]:\n",
    "                    co_association_matrix[i, j] += 1\n",
    "\n",
    "    co_association_matrix /= len(zeta_combinations)\n",
    "\n",
    "    # Agglomerative (Consensus) Clustering \n",
    "    agg_clustering = AgglomerativeClustering(n_clusters=n_clusters, metric='precomputed', linkage='average')\n",
    "    consensus_labels = agg_clustering.fit_predict(1 - co_association_matrix)\n",
    "    adata.obs['MCIST_spatial_domains'] = consensus_labels\n",
    "    return adata"
   ]
  },
  {
   "cell_type": "markdown",
   "metadata": {},
   "source": [
    "I encourage each of you to apply this method to the Visium DLPFC Samples 151507-151676 available on our lab website. The number of clusters for eachd dataset is somewhere between 5-7. The spatial radius cutoff for constructing the spatial graph is 150. Compare the clustering results to the ground truth spatial domain annotations. For our end of semester presentation, we will present these clustering results compared to a list of other state-of-the-art techniques from the literature. "
   ]
  }
 ],
 "metadata": {
  "language_info": {
   "name": "python"
  }
 },
 "nbformat": 4,
 "nbformat_minor": 2
}
